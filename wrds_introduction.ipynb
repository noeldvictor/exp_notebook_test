{
 "nbformat": 4,
 "nbformat_minor": 0,
 "metadata": {
  "colab": {
   "name": "wrds_introduction.ipynb",
   "provenance": [],
   "collapsed_sections": []
  },
  "kernelspec": {
   "name": "python3",
   "display_name": "Python 3"
  },
  "language_info": {
   "name": "python"
  }
 },
 "cells": [
  {
   "cell_type": "markdown",
   "source": [
    "Example Notebook designed for Google Colab\n",
    "**This example is not for class accounts**"
   ],
   "metadata": {
    "id": "r5fOaZhehyJe"
   }
  },
  {
   "cell_type": "code",
   "source": [],
   "metadata": {
    "id": "Ey59wYHflIzy"
   },
   "execution_count": 12,
   "outputs": []
  },
  {
   "cell_type": "markdown",
   "source": [
    "# What is WRDS ?\n",
    "\n",
    "\n",
    "*   WRDS stands for Wharton Research Data Services. \n",
    "*   WRDS aggregates data into a standard format and then makes it available to subscribers.\n",
    "\n"
   ],
   "metadata": {
    "id": "5GHAWj4XhZP7"
   }
  },
  {
   "cell_type": "markdown",
   "source": [
    "# Financial Data\n",
    "WRDS is best known for financial data—for example, stock prices from CRSP, or company fundamentals from Compustat."
   ],
   "metadata": {
    "id": "0Hojji9AhkZb"
   }
  },
  {
   "cell_type": "markdown",
   "source": [
    "# Connecting to WRDS via Juptyer\n",
    "\n",
    "Connecting to WRDS via juptyer is EASY!"
   ],
   "metadata": {
    "id": "2sj1mRoBiDyI"
   }
  },
  {
   "cell_type": "code",
   "source": [
    "# First install the WRDS Python Data Access Library\n",
    "# https://pypi.org/project/wrds/\n",
    "# https://github.com/wharton/wrds\n",
    "# it requires requires the Pandas and Psycopg2 Python packages\n",
    "!pip install wrds"
   ],
   "metadata": {
    "colab": {
     "base_uri": "https://localhost:8080/"
    },
    "id": "cMUAvb3WiB8K",
    "outputId": "2658c9b2-5b96-4c4d-9981-b8eb655599bc"
   },
   "execution_count": 13,
   "outputs": [
    {
     "output_type": "stream",
     "name": "stdout",
     "text": [
      "Requirement already satisfied: wrds in /usr/local/lib/python3.7/dist-packages (3.1.1)\n",
      "Requirement already satisfied: pandas in /usr/local/lib/python3.7/dist-packages (from wrds) (1.3.5)\n",
      "Requirement already satisfied: mock in /usr/local/lib/python3.7/dist-packages (from wrds) (4.0.3)\n",
      "Requirement already satisfied: psycopg2-binary in /usr/local/lib/python3.7/dist-packages (from wrds) (2.9.3)\n",
      "Requirement already satisfied: sqlalchemy in /usr/local/lib/python3.7/dist-packages (from wrds) (1.4.32)\n",
      "Requirement already satisfied: numpy in /usr/local/lib/python3.7/dist-packages (from wrds) (1.21.5)\n",
      "Requirement already satisfied: pytz>=2017.3 in /usr/local/lib/python3.7/dist-packages (from pandas->wrds) (2018.9)\n",
      "Requirement already satisfied: python-dateutil>=2.7.3 in /usr/local/lib/python3.7/dist-packages (from pandas->wrds) (2.8.2)\n",
      "Requirement already satisfied: six>=1.5 in /usr/local/lib/python3.7/dist-packages (from python-dateutil>=2.7.3->pandas->wrds) (1.15.0)\n",
      "Requirement already satisfied: importlib-metadata in /usr/local/lib/python3.7/dist-packages (from sqlalchemy->wrds) (4.11.3)\n",
      "Requirement already satisfied: greenlet!=0.4.17 in /usr/local/lib/python3.7/dist-packages (from sqlalchemy->wrds) (1.1.2)\n",
      "Requirement already satisfied: zipp>=0.5 in /usr/local/lib/python3.7/dist-packages (from importlib-metadata->sqlalchemy->wrds) (3.7.0)\n",
      "Requirement already satisfied: typing-extensions>=3.6.4 in /usr/local/lib/python3.7/dist-packages (from importlib-metadata->sqlalchemy->wrds) (3.10.0.2)\n"
     ]
    }
   ]
  },
  {
   "cell_type": "code",
   "source": [
    "# Setup your wrds database connection\n",
    "# You will be asked for your login credentials\n",
    "import wrds\n",
    "db = wrds.Connection()"
   ],
   "metadata": {
    "colab": {
     "base_uri": "https://localhost:8080/"
    },
    "id": "1id84Sb1iphg",
    "outputId": "a26f4114-bd17-4d91-c182-c3c3d469b2ef"
   },
   "execution_count": 15,
   "outputs": [
    {
     "output_type": "stream",
     "name": "stdout",
     "text": [
      "Enter your WRDS username [root]:nvictor\n",
      "Enter your password:··········\n",
      "WRDS recommends setting up a .pgpass file.\n",
      "Create .pgpass file now [y/n]?: y\n",
      "Created .pgpass file successfully.\n",
      "Loading library list...\n",
      "Done\n"
     ]
    }
   ]
  },
  {
   "cell_type": "code",
   "source": [
    "# Then you can get a list of the available libraries for your user, this can get really large depending your available products\n",
    "my_libraries = db.list_libraries()\n",
    "# Let's just print the first 10 available libraries\n",
    "print(my_libraries[0:10])"
   ],
   "metadata": {
    "colab": {
     "base_uri": "https://localhost:8080/"
    },
    "id": "UdWOHaZai9HX",
    "outputId": "493c52f6-ceed-4cc0-dea5-5140d1e968a5"
   },
   "execution_count": 16,
   "outputs": [
    {
     "output_type": "stream",
     "name": "stdout",
     "text": [
      "['aha', 'aha_annual_survey_3years', 'aha_annual_survey_hist', 'aha_annual_survey_recent', 'aha_hcris_3years', 'aha_hcris_recent', 'aha_it_survey_3years', 'aha_it_survey_recent', 'aha_sample', 'ahasamp']\n"
     ]
    }
   ]
  },
  {
   "cell_type": "code",
   "source": [
    "# Crsp is our most common subscribed product, so we'll use that for the next example.\n",
    "crsp_tables = db.list_tables(library='crsp')\n",
    "print(crsp_tables)\n"
   ],
   "metadata": {
    "colab": {
     "base_uri": "https://localhost:8080/"
    },
    "id": "MP50IKP_jZ8X",
    "outputId": "ba7d2b96-3e7c-496a-dc1d-abc755304b7f"
   },
   "execution_count": 17,
   "outputs": [
    {
     "output_type": "stream",
     "name": "stdout",
     "text": [
      "['acti', 'asia', 'asib', 'asic', 'asio', 'asix', 'bmdebt', 'bmheader', 'bmpaymts', 'bmquotes', 'bmyield', 'bndprt06', 'bndprt12', 'bxcalind', 'bxdlyind', 'bxmthind', 'bxquotes', 'bxyield', 'cap', 'ccm_lookup', 'ccm_qvards', 'ccmxpf_linktable', 'ccmxpf_lnkhist', 'ccmxpf_lnkrng', 'ccmxpf_lnkused', 'comphead', 'comphist', 'compmaster', 'contact_info', 'crsp_cik_map', 'crsp_daily_data', 'crsp_header', 'crsp_monthly_data', 'crsp_names', 'crsp_portno_map', 'crsp_ziman_daily_index', 'crsp_ziman_monthly_index', 'cs20yr', 'cs5yr', 'cs90d', 'cst_hist', 'daily_nav', 'daily_nav_ret', 'daily_returns', 'dividends', 'dport1', 'dport2', 'dport3', 'dport4', 'dport5', 'dport6', 'dport7', 'dport8', 'dport9', 'dsbc', 'dsbo', 'dse', 'dse62', 'dse62delist', 'dse62dist', 'dse62exchdates', 'dse62names', 'dse62nasdin', 'dse62shares', 'dseall', 'dseall62', 'dsedelist', 'dsedist', 'dseexchdates', 'dsenames', 'dsenasdin', 'dseshares', 'dsf', 'dsf62', 'dsfhdr', 'dsfhdr62', 'dsi', 'dsi62', 'dsia', 'dsib', 'dsic', 'dsio', 'dsir', 'dsix', 'dsiy', 'dsp500', 'dsp500list', 'dsp500p', 'dssc', 'dsso', 'eod_cap', 'eod_sector', 'eod_vg', 'erdport1', 'erdport2', 'erdport3', 'erdport4', 'erdport5', 'erdport6', 'erdport7', 'erdport8', 'erdport9', 'ermport1', 'ermport2', 'ermport3', 'ermport4', 'ermport5', 'fbpri', 'fbyld', 'front_load', 'front_load_det', 'front_load_grp', 'fund_fees', 'fund_flows', 'fund_hdr', 'fund_hdr_hist', 'fund_names', 'fund_style', 'fund_summary', 'fund_summary2', 'fwdask06', 'fwdask12', 'fwdave06', 'fwdave12', 'fwdbid06', 'fwdbid12', 'hldask06', 'hldask12', 'hldave06', 'hldave12', 'hldbid06', 'hldbid12', 'holdings', 'holdings_co_info', 'index_descriptions', 'index_type_map', 'mbi', 'mbmdat', 'mbmhdr', 'mbx', 'mbxid', 'mcti', 'mfdbname', 'mhista', 'mhistn', 'mhistq', 'monthly_nav', 'monthly_returns', 'monthly_tna', 'monthly_tna_ret_nav', 'mport1', 'mport2', 'mport3', 'mport4', 'mport5', 'mse', 'mse62', 'mse62delist', 'mse62dist', 'mse62exchdates', 'mse62names', 'mse62nasdin', 'mse62shares', 'mseall', 'mseall62', 'msedelist', 'msedist', 'mseexchdates', 'msenames', 'msenasdin', 'mseshares', 'msf', 'msf62', 'msfhdr', 'msfhdr62', 'msi', 'msi62', 'msia', 'msib', 'msic', 'msio', 'msir', 'msix', 'msiy', 'msp500', 'msp500list', 'msp500p', 'portnomap', 'priask06', 'priask12', 'priave06', 'priave12', 'pribid06', 'pribid12', 'price_type', 'property_type', 'qcti', 'qsia', 'qsib', 'qsic', 'qsio', 'qsix', 'rear_load', 'rear_load_det', 'rear_load_grp', 'rebala', 'rebaln', 'rebalq', 'reit_type', 'riskfree', 's6z_agg_ann', 's6z_agg_mth', 's6z_agg_qtr', 's6z_del', 's6z_dind', 's6z_dis', 's6z_dp_dly', 's6z_ds_dly', 's6z_hdr', 's6z_indhdr', 's6z_mdel', 's6z_mind', 's6z_mth', 's6z_nam', 's6z_ndi', 's6z_shr', 'saz_agg_ann', 'saz_agg_mth', 'saz_agg_qtr', 'saz_del', 'saz_dind', 'saz_dis', 'saz_dp_dly', 'saz_ds_dly', 'saz_hdr', 'saz_indhdr', 'saz_mdel', 'saz_mind', 'saz_mth', 'saz_nam', 'saz_ndi', 'saz_shr', 'sechead', 'sechist', 'sector', 'sfz_dind', 'sfz_indhdr', 'sfz_mbr', 'sfz_mind', 'sfz_portd', 'sfz_portm', 'sfz_rb', 'stock_qvards', 'stocknames', 'stocknames62', 'sub_property_type', 'tfz_dly', 'tfz_dly_cd', 'tfz_dly_cpi', 'tfz_dly_ft', 'tfz_dly_rf2', 'tfz_dly_ts2', 'tfz_idx', 'tfz_iss', 'tfz_mast', 'tfz_mth', 'tfz_mth_bp', 'tfz_mth_cd', 'tfz_mth_cpi', 'tfz_mth_fb', 'tfz_mth_ft', 'tfz_mth_rf', 'tfz_mth_rf2', 'tfz_mth_ts', 'tfz_mth_ts2', 'tfz_pay', 'vg', 'yldask06', 'yldask12', 'yldave06', 'yldave12', 'yldbid06', 'yldbid12', 'ziman_reit_info', 'zr_hdrnames']\n"
     ]
    }
   ]
  },
  {
   "cell_type": "code",
   "source": [
    "# You will notice we have a lot crsp_tables !\n",
    "# So lets describe what an example table is \n",
    "stockname_description = db.describe_table(library='crsp', table='stocknames')\n",
    "# the following will print the column and types for that table.\n",
    "print(stockname_description)"
   ],
   "metadata": {
    "colab": {
     "base_uri": "https://localhost:8080/"
    },
    "id": "78mkzM2Vjpi8",
    "outputId": "52c60585-0385-463a-ed15-cce9b14e8672"
   },
   "execution_count": 18,
   "outputs": [
    {
     "output_type": "stream",
     "name": "stdout",
     "text": [
      "Approximately 75354 rows in crsp.stocknames.\n",
      "         name  nullable              type\n",
      "0      permno      True  DOUBLE_PRECISION\n",
      "1      permco      True  DOUBLE_PRECISION\n",
      "2      namedt      True              DATE\n",
      "3   nameenddt      True              DATE\n",
      "4       cusip      True        VARCHAR(8)\n",
      "5      ncusip      True        VARCHAR(8)\n",
      "6      ticker      True        VARCHAR(8)\n",
      "7      comnam      True       VARCHAR(35)\n",
      "8       hexcd      True  DOUBLE_PRECISION\n",
      "9      exchcd      True  DOUBLE_PRECISION\n",
      "10      siccd      True  DOUBLE_PRECISION\n",
      "11      shrcd      True  DOUBLE_PRECISION\n",
      "12     shrcls      True        VARCHAR(4)\n",
      "13    st_date      True              DATE\n",
      "14   end_date      True              DATE\n",
      "15    namedum      True  DOUBLE_PRECISION\n"
     ]
    }
   ]
  },
  {
   "cell_type": "code",
   "source": [
    "# Now lets get some stocknames !\n",
    "# The follwoing will return a pandas dataframe !\n",
    "stocknames = db.get_table(library='crsp', table='stocknames', obs=10)\n",
    "# We'll print the type just to prove to you its a data frame\n",
    "print(type(stocknames))\n",
    "# Now we'll some top rows\n",
    "stocknames.head()"
   ],
   "metadata": {
    "colab": {
     "base_uri": "https://localhost:8080/",
     "height": 225
    },
    "id": "V4dGKYLokDR9",
    "outputId": "4a377589-e9b4-4378-d31d-296adb400b32"
   },
   "execution_count": 19,
   "outputs": [
    {
     "output_type": "stream",
     "name": "stdout",
     "text": [
      "<class 'pandas.core.frame.DataFrame'>\n"
     ]
    },
    {
     "output_type": "execute_result",
     "data": {
      "text/plain": [
       "    permno  permco      namedt   nameenddt     cusip    ncusip ticker  \\\n",
       "0  10000.0  7952.0  1986-01-07  1987-06-11  68391610  68391610  OMFGA   \n",
       "1  10001.0  7953.0  1986-01-09  1993-11-21  36720410  39040610   GFGC   \n",
       "2  10001.0  7953.0  1993-11-22  2008-02-04  36720410  29274A10   EWST   \n",
       "3  10001.0  7953.0  2008-02-05  2009-08-03  36720410  29274A20   EWST   \n",
       "4  10001.0  7953.0  2009-08-04  2009-12-17  36720410  29269V10   EGAS   \n",
       "\n",
       "                      comnam  hexcd  exchcd   siccd  shrcd shrcls     st_date  \\\n",
       "0  OPTIMUM MANUFACTURING INC    3.0     3.0  3990.0   10.0      A  1986-01-31   \n",
       "1         GREAT FALLS GAS CO    2.0     3.0  4920.0   11.0   None  1986-01-31   \n",
       "2            ENERGY WEST INC    2.0     3.0  4920.0   11.0   None  1986-01-31   \n",
       "3            ENERGY WEST INC    2.0     3.0  4920.0   11.0   None  1986-01-31   \n",
       "4                 ENERGY INC    2.0     3.0  4920.0   11.0   None  1986-01-31   \n",
       "\n",
       "     end_date  namedum  \n",
       "0  1987-06-30      2.0  \n",
       "1  2017-08-31      2.0  \n",
       "2  2017-08-31      2.0  \n",
       "3  2017-08-31      2.0  \n",
       "4  2017-08-31      2.0  "
      ],
      "text/html": [
       "\n",
       "  <div id=\"df-9a1a1002-8c9c-43a6-8454-63c9f29e9011\">\n",
       "    <div class=\"colab-df-container\">\n",
       "      <div>\n",
       "<style scoped>\n",
       "    .dataframe tbody tr th:only-of-type {\n",
       "        vertical-align: middle;\n",
       "    }\n",
       "\n",
       "    .dataframe tbody tr th {\n",
       "        vertical-align: top;\n",
       "    }\n",
       "\n",
       "    .dataframe thead th {\n",
       "        text-align: right;\n",
       "    }\n",
       "</style>\n",
       "<table border=\"1\" class=\"dataframe\">\n",
       "  <thead>\n",
       "    <tr style=\"text-align: right;\">\n",
       "      <th></th>\n",
       "      <th>permno</th>\n",
       "      <th>permco</th>\n",
       "      <th>namedt</th>\n",
       "      <th>nameenddt</th>\n",
       "      <th>cusip</th>\n",
       "      <th>ncusip</th>\n",
       "      <th>ticker</th>\n",
       "      <th>comnam</th>\n",
       "      <th>hexcd</th>\n",
       "      <th>exchcd</th>\n",
       "      <th>siccd</th>\n",
       "      <th>shrcd</th>\n",
       "      <th>shrcls</th>\n",
       "      <th>st_date</th>\n",
       "      <th>end_date</th>\n",
       "      <th>namedum</th>\n",
       "    </tr>\n",
       "  </thead>\n",
       "  <tbody>\n",
       "    <tr>\n",
       "      <th>0</th>\n",
       "      <td>10000.0</td>\n",
       "      <td>7952.0</td>\n",
       "      <td>1986-01-07</td>\n",
       "      <td>1987-06-11</td>\n",
       "      <td>68391610</td>\n",
       "      <td>68391610</td>\n",
       "      <td>OMFGA</td>\n",
       "      <td>OPTIMUM MANUFACTURING INC</td>\n",
       "      <td>3.0</td>\n",
       "      <td>3.0</td>\n",
       "      <td>3990.0</td>\n",
       "      <td>10.0</td>\n",
       "      <td>A</td>\n",
       "      <td>1986-01-31</td>\n",
       "      <td>1987-06-30</td>\n",
       "      <td>2.0</td>\n",
       "    </tr>\n",
       "    <tr>\n",
       "      <th>1</th>\n",
       "      <td>10001.0</td>\n",
       "      <td>7953.0</td>\n",
       "      <td>1986-01-09</td>\n",
       "      <td>1993-11-21</td>\n",
       "      <td>36720410</td>\n",
       "      <td>39040610</td>\n",
       "      <td>GFGC</td>\n",
       "      <td>GREAT FALLS GAS CO</td>\n",
       "      <td>2.0</td>\n",
       "      <td>3.0</td>\n",
       "      <td>4920.0</td>\n",
       "      <td>11.0</td>\n",
       "      <td>None</td>\n",
       "      <td>1986-01-31</td>\n",
       "      <td>2017-08-31</td>\n",
       "      <td>2.0</td>\n",
       "    </tr>\n",
       "    <tr>\n",
       "      <th>2</th>\n",
       "      <td>10001.0</td>\n",
       "      <td>7953.0</td>\n",
       "      <td>1993-11-22</td>\n",
       "      <td>2008-02-04</td>\n",
       "      <td>36720410</td>\n",
       "      <td>29274A10</td>\n",
       "      <td>EWST</td>\n",
       "      <td>ENERGY WEST INC</td>\n",
       "      <td>2.0</td>\n",
       "      <td>3.0</td>\n",
       "      <td>4920.0</td>\n",
       "      <td>11.0</td>\n",
       "      <td>None</td>\n",
       "      <td>1986-01-31</td>\n",
       "      <td>2017-08-31</td>\n",
       "      <td>2.0</td>\n",
       "    </tr>\n",
       "    <tr>\n",
       "      <th>3</th>\n",
       "      <td>10001.0</td>\n",
       "      <td>7953.0</td>\n",
       "      <td>2008-02-05</td>\n",
       "      <td>2009-08-03</td>\n",
       "      <td>36720410</td>\n",
       "      <td>29274A20</td>\n",
       "      <td>EWST</td>\n",
       "      <td>ENERGY WEST INC</td>\n",
       "      <td>2.0</td>\n",
       "      <td>3.0</td>\n",
       "      <td>4920.0</td>\n",
       "      <td>11.0</td>\n",
       "      <td>None</td>\n",
       "      <td>1986-01-31</td>\n",
       "      <td>2017-08-31</td>\n",
       "      <td>2.0</td>\n",
       "    </tr>\n",
       "    <tr>\n",
       "      <th>4</th>\n",
       "      <td>10001.0</td>\n",
       "      <td>7953.0</td>\n",
       "      <td>2009-08-04</td>\n",
       "      <td>2009-12-17</td>\n",
       "      <td>36720410</td>\n",
       "      <td>29269V10</td>\n",
       "      <td>EGAS</td>\n",
       "      <td>ENERGY INC</td>\n",
       "      <td>2.0</td>\n",
       "      <td>3.0</td>\n",
       "      <td>4920.0</td>\n",
       "      <td>11.0</td>\n",
       "      <td>None</td>\n",
       "      <td>1986-01-31</td>\n",
       "      <td>2017-08-31</td>\n",
       "      <td>2.0</td>\n",
       "    </tr>\n",
       "  </tbody>\n",
       "</table>\n",
       "</div>\n",
       "      <button class=\"colab-df-convert\" onclick=\"convertToInteractive('df-9a1a1002-8c9c-43a6-8454-63c9f29e9011')\"\n",
       "              title=\"Convert this dataframe to an interactive table.\"\n",
       "              style=\"display:none;\">\n",
       "        \n",
       "  <svg xmlns=\"http://www.w3.org/2000/svg\" height=\"24px\"viewBox=\"0 0 24 24\"\n",
       "       width=\"24px\">\n",
       "    <path d=\"M0 0h24v24H0V0z\" fill=\"none\"/>\n",
       "    <path d=\"M18.56 5.44l.94 2.06.94-2.06 2.06-.94-2.06-.94-.94-2.06-.94 2.06-2.06.94zm-11 1L8.5 8.5l.94-2.06 2.06-.94-2.06-.94L8.5 2.5l-.94 2.06-2.06.94zm10 10l.94 2.06.94-2.06 2.06-.94-2.06-.94-.94-2.06-.94 2.06-2.06.94z\"/><path d=\"M17.41 7.96l-1.37-1.37c-.4-.4-.92-.59-1.43-.59-.52 0-1.04.2-1.43.59L10.3 9.45l-7.72 7.72c-.78.78-.78 2.05 0 2.83L4 21.41c.39.39.9.59 1.41.59.51 0 1.02-.2 1.41-.59l7.78-7.78 2.81-2.81c.8-.78.8-2.07 0-2.86zM5.41 20L4 18.59l7.72-7.72 1.47 1.35L5.41 20z\"/>\n",
       "  </svg>\n",
       "      </button>\n",
       "      \n",
       "  <style>\n",
       "    .colab-df-container {\n",
       "      display:flex;\n",
       "      flex-wrap:wrap;\n",
       "      gap: 12px;\n",
       "    }\n",
       "\n",
       "    .colab-df-convert {\n",
       "      background-color: #E8F0FE;\n",
       "      border: none;\n",
       "      border-radius: 50%;\n",
       "      cursor: pointer;\n",
       "      display: none;\n",
       "      fill: #1967D2;\n",
       "      height: 32px;\n",
       "      padding: 0 0 0 0;\n",
       "      width: 32px;\n",
       "    }\n",
       "\n",
       "    .colab-df-convert:hover {\n",
       "      background-color: #E2EBFA;\n",
       "      box-shadow: 0px 1px 2px rgba(60, 64, 67, 0.3), 0px 1px 3px 1px rgba(60, 64, 67, 0.15);\n",
       "      fill: #174EA6;\n",
       "    }\n",
       "\n",
       "    [theme=dark] .colab-df-convert {\n",
       "      background-color: #3B4455;\n",
       "      fill: #D2E3FC;\n",
       "    }\n",
       "\n",
       "    [theme=dark] .colab-df-convert:hover {\n",
       "      background-color: #434B5C;\n",
       "      box-shadow: 0px 1px 3px 1px rgba(0, 0, 0, 0.15);\n",
       "      filter: drop-shadow(0px 1px 2px rgba(0, 0, 0, 0.3));\n",
       "      fill: #FFFFFF;\n",
       "    }\n",
       "  </style>\n",
       "\n",
       "      <script>\n",
       "        const buttonEl =\n",
       "          document.querySelector('#df-9a1a1002-8c9c-43a6-8454-63c9f29e9011 button.colab-df-convert');\n",
       "        buttonEl.style.display =\n",
       "          google.colab.kernel.accessAllowed ? 'block' : 'none';\n",
       "\n",
       "        async function convertToInteractive(key) {\n",
       "          const element = document.querySelector('#df-9a1a1002-8c9c-43a6-8454-63c9f29e9011');\n",
       "          const dataTable =\n",
       "            await google.colab.kernel.invokeFunction('convertToInteractive',\n",
       "                                                     [key], {});\n",
       "          if (!dataTable) return;\n",
       "\n",
       "          const docLinkHtml = 'Like what you see? Visit the ' +\n",
       "            '<a target=\"_blank\" href=https://colab.research.google.com/notebooks/data_table.ipynb>data table notebook</a>'\n",
       "            + ' to learn more about interactive tables.';\n",
       "          element.innerHTML = '';\n",
       "          dataTable['output_type'] = 'display_data';\n",
       "          await google.colab.output.renderOutput(dataTable, element);\n",
       "          const docLink = document.createElement('div');\n",
       "          docLink.innerHTML = docLinkHtml;\n",
       "          element.appendChild(docLink);\n",
       "        }\n",
       "      </script>\n",
       "    </div>\n",
       "  </div>\n",
       "  "
      ]
     },
     "metadata": {},
     "execution_count": 19
    }
   ]
  },
  {
   "cell_type": "markdown",
   "source": [
    "# Where to go from here ?\n",
    "\n",
    "\n",
    "The WRDS website has very useful information on your subscribed products\n",
    "-  https://wrds-www.wharton.upenn.edu/pages/get-data/\n",
    "- you can also read more information about what the columns mean \n",
    "\n",
    "You will also want to get familiar with the Pandas library as its incredibly useful for analyzing data.\n",
    "- https://www.kaggle.com/learn/pandas\n",
    "- https://www.w3schools.com/python/pandas/default.asp\n",
    "\n",
    "\n",
    "**Then sky is the limit!**\n",
    "You can combine all sorts of tools to understand and interpret WRDS data.\n",
    "\n",
    "\n"
   ],
   "metadata": {
    "id": "Rnb-wvukkamx"
   }
  }
 ]
}